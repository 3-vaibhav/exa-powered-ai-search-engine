{
  "nbformat": 4,
  "nbformat_minor": 0,
  "metadata": {
    "colab": {
      "provenance": []
    },
    "kernelspec": {
      "name": "python3",
      "display_name": "Python 3"
    },
    "language_info": {
      "name": "python"
    }
  },
  "cells": [
    {
      "cell_type": "code",
      "execution_count": null,
      "metadata": {
        "collapsed": true,
        "id": "rE9lT_rpJd4k"
      },
      "outputs": [],
      "source": [
        "!pip install exa-py --quiet\n",
        "\n",
        "from exa_py import Exa"
      ]
    },
    {
      "cell_type": "code",
      "source": [
        "exa = Exa('Your exa API ')"
      ],
      "metadata": {
        "id": "L2Wx5KwAKPR-"
      },
      "execution_count": null,
      "outputs": []
    },
    {
      "cell_type": "code",
      "source": [
        "query = input(\"Search here: \")\n",
        "\n",
        "response = exa.search_and_contents(\n",
        "    query,\n",
        "    num_results=5,\n",
        "    type=\"keyword\",\n",
        "    include_domains=[\"tiktok.com\", \"youtube.com\", \"wikipedia.org\"],\n",
        "    highlights=True\n",
        ")\n",
        "\n",
        "for result in response.results:\n",
        "    print(\"=\"*80)\n",
        "    print(f\"Title: {result.title}\")\n",
        "    print(f\"URL: {result.url}\")\n",
        "\n",
        "    if result.highlights:\n",
        "        print(\"\\nHighlights:\")\n",
        "        for hl in result.highlights:\n",
        "            print(f\"- {hl}\")\n",
        "\n",
        "    if result.text:\n",
        "        print(\"\\nFull Page Text Preview:\")\n",
        "        print(result.text[:500], \"...\")\n",
        "    print()"
      ],
      "metadata": {
        "colab": {
          "base_uri": "https://localhost:8080/"
        },
        "id": "OoDB4RHfKV9y",
        "outputId": "37d7e4e5-e44a-48fe-d2ae-6da45e49179e"
      },
      "execution_count": null,
      "outputs": [
        {
          "output_type": "stream",
          "name": "stdout",
          "text": [
            "Search here: LLM\n",
            "================================================================================\n",
            "Title: Large language model\n",
            "URL: https://en.wikipedia.org/wiki/Large_language_model\n",
            "\n",
            "Highlights:\n",
            "- The release of ChatGPT led to an uptick in LLM usage across several research subfields of computer science, including robotics, software engineering, and societal impact work. [\\[13\\]](https://en.wikipedia.org/en.wikipedia.org#cite_note-auto-13) In 2024 OpenAI released the [reasoning model](https://en.wikipedia.org/wiki/Reasoning_language_model) [OpenAI o1](https://en.wikipedia.org/wiki/OpenAI_o1), which generates long chains of thought before returning a final answer. Since 2022, [source-available](https://en.wikipedia.org/wiki/Source-available_software) models have been gaining popularity, especially at first with [BLOOM](https://en.wikipedia.org/wiki/BLOOM_(language_model)) and [LLaMA](https://en.wikipedia.org/wiki/LLaMA), though both have restrictions on the field of use. [Mistral AI\n",
            "\n",
            "================================================================================\n",
            "Title: Master of Laws\n",
            "URL: https://en.wikipedia.org/wiki/Master_of_Laws\n",
            "\n",
            "Highlights:\n",
            "- degrees can be general, or students can choose to pursue a specialized area of research. Foreign trained lawyers who wish to practice in Canada will first need to have their education and experience assessed by the Federation of Law Societies of Canada's National Committee on Accreditation. Upon having received a certificate of accreditation from the National Committee on Accreditation, foreign law graduates would then have to obtain articles with a law firm, take the professional legal training course, and pass the professional exams to be called to the bar in a province. The University of British Columbia's LLM in Common Law is an example of one of a few LLM courses that help to prepare students for the professional exams. The LL.M.\n",
            "\n",
            "================================================================================\n",
            "Title: [1hr Talk] Intro to Large Language Models\n",
            "URL: https://www.youtube.com/watch?v=zjkBMFhNj_g\n",
            "\n",
            "Highlights:\n",
            "- For example, in the tools section, I'd always recommend double-checking the math/code the LLM did.\\nHow does the LLM use a tool like the browser? It emits special words, e.g. |BROWSER|. When the code \\\"above\\\" that is inferencing the LLM detects these words it captures the output that follows, sends it off to a tool, comes back with the result and continues the generation. How does the LLM know to emit these special words?\n",
            "\n",
            "================================================================================\n",
            "Title: How Large Language Models Work\n",
            "URL: https://www.youtube.com/watch?v=5sLYAQS9sWQ\n",
            "\n",
            "Highlights:\n",
            "- In this video, Martin Keen briefly explains what a LLM is, how they relate to foundation models, and then covers how they work and how they can be used to address various business problems.\\n\\nAI news moves fast. Sign up for a monthly newsletter for AI updates from IBM → https://ibm.biz/BdK65X\\n\\n#llm #gpt #gpt3 #largelanguagemodel #watsonx #GenerativeAI #Foundationmodels | view_count: 1,132,296 views | short_view_count: 1.1M views | num_likes: 17 thousand | num_subscribers: 1.33 million\n",
            "\n",
            "================================================================================\n",
            "Title: What is LLM (Large Language Model) | How Large Language ...\n",
            "URL: https://www.youtube.com/watch?v=fn9T5yPyv1o\n",
            "\n",
            "Highlights:\n",
            "- Additionally, knowledge of deep learning frameworks like TensorFlow or PyTorch would be beneficial for participants.\\n\\nFor more information, please write back to us at sales@edureka.in or call us at IND: 9606058406 / US: +18338555775 (toll-free).\\n#Edureka #largelanguagemodel #llm #llmmachinelearning #generativeai #edurekacourse\\\" | view_count: 9,938 views | short_view_count: 9.9K views | num_likes: None | num_subscribers: 4.4 million\n",
            "\n"
          ]
        }
      ]
    }
  ]
}